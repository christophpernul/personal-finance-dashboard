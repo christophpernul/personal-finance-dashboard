{
 "cells": [
  {
   "cell_type": "code",
   "execution_count": 1,
   "metadata": {},
   "outputs": [],
   "source": [
    "import requests\n",
    "import json\n",
    "from bs4 import BeautifulSoup\n",
    "import pandas as pd\n",
    "from datetime import date"
   ]
  },
  {
   "cell_type": "code",
   "execution_count": 2,
   "metadata": {},
   "outputs": [],
   "source": [
    "def url(isin):\n",
    "    return(\"https://www.justetf.com/de/etf-profile.html?query={0}&groupField=index&from=search&isin={0}#overview\"\\\n",
    "          .format(isin))\n",
    "\n",
    "def get_price_stock(soup_base):\n",
    "    assert isinstance(soup_base, type(BeautifulSoup())), \"Input is no BeautifulSoup object!\"\n",
    "    price_dict = {}\n",
    "    \n",
    "    price_obj = soup_base.find_all(\"div\", {\"class\": \"infobox\"})[0].find_all(\"div\", {\"class\": \"val\"})[0].find_all(\"span\")\n",
    "    currency = price_obj[0].text\n",
    "    price = float(price_obj[1].text.replace(\".\", \"\").replace(\",\", \".\"))\n",
    "    \n",
    "    price_dict[\"Currency\"] = currency\n",
    "    price_dict[\"Price\"] = price\n",
    "    price_dict[\"Datum\"] = date.today().strftime(\"%d.%m.%Y\")\n",
    "\n",
    "    return(price_dict)\n",
    "\n",
    "def get_prices(isin_list):\n",
    "    stock_list = []\n",
    "    for isin in isin_list:\n",
    "        r = requests.get(url(isin))\n",
    "        assert r.status_code == 200, \"HTTP Error, {}\".format(r.status_code)\n",
    "        \n",
    "        html = r.content.decode(\"utf-8\")\n",
    "        soup = BeautifulSoup(html, 'html.parser')\n",
    "        stock_dict = get_price_stock(soup)\n",
    "        stock_dict[\"ISIN\"] = isin\n",
    "        stock_list.append(stock_dict)\n",
    "    return(stock_list)\n",
    "\n",
    "def get_master_data_stock(soup_base):\n",
    "    assert isinstance(soup_base, type(BeautifulSoup())), \"Input is no BeautifulSoup object!\"\n",
    "    metadata = {}\n",
    "    ### Get name of stock\n",
    "    stock_name = soup_base.find_all(\"h1\")[0].find_all(\"span\", {\"class\":\"h1\"})[0].text\n",
    "    metadata[\"Name\"] = stock_name\n",
    "    ### Get metadata from infoboxes: Fondssize, TER\n",
    "    infoboxes = soup_base.find_all(\"div\", {\"class\": \"infobox\"})\n",
    "    for box in infoboxes:\n",
    "        value = box.find_all(\"div\", {\"class\": \"val\"})[0].text.replace(\" \", \"\").replace(\"\\n\", \"\")\n",
    "        label = box.find_all(\"div\", {\"class\": \"vallabel\"})[0].text.replace(\" \", \"\").replace(\"\\n\", \"\")\n",
    "        if label == \"Fondsgröße\":\n",
    "            assert value[:3] == \"EUR\", \"Fondsgröße not given in EUR!\"\n",
    "            assert value[-4:] == \"Mio.\", \"Fondsgröße not given in Mio EUR!\"\n",
    "            metadata[\"Fondssize\"] = int(float(value[3:-4])*10**6)\n",
    "        elif label == \"Gesamtkostenquote(TER)\":\n",
    "            assert value[-4:] == \"p.a.\", \"TER not given per year!\"\n",
    "            metadata[\"TER%\"] = float(value[:-5].replace(\".\", \"\").replace(\",\", \".\"))\n",
    "    ### Get metadata from tables\n",
    "    tables = soup_base.find_all(\"table\")\n",
    "    needed_labels = [\"Replikationsmethode\", \"RechtlicheStruktur\", \"Fondswährung\", \"Auflagedatum/Handelsbeginn\",\n",
    "                    \"Ausschüttung\", \"Ausschüttungsintervall\", \"Fondsdomizil\", \"Fondsstruktur\", \"Anbieter\", \n",
    "                    \"Depotbank\", \"Wirtschaftsprüfer\"]\n",
    "    for table in tables:\n",
    "        bodies = table.find_all(\"tbody\")\n",
    "        for body in bodies:\n",
    "            rows = body.find_all(\"tr\")\n",
    "            for row in rows:\n",
    "                if len(row.find_all(\"td\")) == 2:\n",
    "                    label = row.find_all(\"td\")[0].text.replace(\" \", \"\").replace(\"\\n\", \"\")\n",
    "                    value = row.find_all(\"td\")[1].text.replace(\" \", \"\").replace(\"\\n\", \"\")\n",
    "                    if label in needed_labels:\n",
    "                        metadata[label] = value\n",
    "    return(metadata)\n",
    "\n",
    "def get_master_data(isin_list):\n",
    "    stock_list = []\n",
    "    for isin in isin_list:\n",
    "        r = requests.get(url(isin))\n",
    "        assert r.status_code == 200, \"HTTP Error, {}\".format(r.status_code)\n",
    "        \n",
    "        html = r.content.decode(\"utf-8\")\n",
    "        soup = BeautifulSoup(html, 'html.parser')\n",
    "        stock_dict = get_master_data_stock(soup)\n",
    "        stock_dict[\"ISIN\"] = isin\n",
    "        stock_list.append(stock_dict)\n",
    "    return(stock_list)"
   ]
  },
  {
   "cell_type": "code",
   "execution_count": 3,
   "metadata": {},
   "outputs": [],
   "source": [
    "isin = \"IE00B1W57M07\"\n",
    "r = requests.get(url(isin))\n",
    "assert r.status_code == 200, \"HTTP Error, {}\".format(r.status_code)\n",
    "\n",
    "html = r.content.decode(\"utf-8\")\n",
    "soup = BeautifulSoup(html, 'html.parser')"
   ]
  },
  {
   "cell_type": "code",
   "execution_count": 4,
   "metadata": {},
   "outputs": [],
   "source": [
    "path_all_isin = \"/home/chris/Dropbox/Finance/data/ETF_investing.ods\"\n",
    "path_needed_isin = \"/home/chris/Dropbox/Finance/data/finanzübersicht.ods\"\n",
    "out_path_master = \"/home/chris/Dropbox/Finance/data/master_data_stocks.ods\"\n",
    "out_path_prices = \"/home/chris/Dropbox/Finance/stock_prices.ods\""
   ]
  },
  {
   "cell_type": "code",
   "execution_count": 5,
   "metadata": {},
   "outputs": [],
   "source": [
    "df_in = pd.read_excel(path_all_isin, engine=\"odf\", sheet_name=\"ETF list\")\n",
    "isin_list_in = list(df_in[\"ISIN\"].drop_duplicates())"
   ]
  },
  {
   "cell_type": "code",
   "execution_count": 6,
   "metadata": {},
   "outputs": [
    {
     "data": {
      "text/plain": [
       "86"
      ]
     },
     "execution_count": 6,
     "metadata": {},
     "output_type": "execute_result"
    }
   ],
   "source": [
    "len(isin_list_in)"
   ]
  },
  {
   "cell_type": "code",
   "execution_count": 7,
   "metadata": {},
   "outputs": [],
   "source": [
    "dfn = pd.read_excel(path_needed_isin, engine=\"odf\", sheet_name=\"3.2 Portfolio langfristig Transactions\")\n",
    "isin_list = list(dfn[\"ISIN\"].dropna().drop_duplicates())"
   ]
  },
  {
   "cell_type": "code",
   "execution_count": 8,
   "metadata": {},
   "outputs": [
    {
     "data": {
      "text/plain": [
       "17"
      ]
     },
     "execution_count": 8,
     "metadata": {},
     "output_type": "execute_result"
    }
   ],
   "source": [
    "len(isin_list)"
   ]
  },
  {
   "cell_type": "code",
   "execution_count": 9,
   "metadata": {},
   "outputs": [],
   "source": [
    "stocks = get_master_data(isin_list_in)\n",
    "df = pd.DataFrame(stocks)\n",
    "assert df.count()[0] == len(isin_list_in), \"Too less rows!\"\n",
    "df.to_csv(out_path_master, index=False)"
   ]
  },
  {
   "cell_type": "code",
   "execution_count": 10,
   "metadata": {},
   "outputs": [],
   "source": [
    "prices = get_prices(isin_list)\n",
    "df_price = pd.DataFrame(prices)\n",
    "assert df_price.count()[0] == len(isin_list), \"Too less rows!\"\n",
    "df_price.to_csv(out_path_prices, index=False)"
   ]
  },
  {
   "cell_type": "code",
   "execution_count": 13,
   "metadata": {},
   "outputs": [
    {
     "data": {
      "text/html": [
       "<div>\n",
       "<style scoped>\n",
       "    .dataframe tbody tr th:only-of-type {\n",
       "        vertical-align: middle;\n",
       "    }\n",
       "\n",
       "    .dataframe tbody tr th {\n",
       "        vertical-align: top;\n",
       "    }\n",
       "\n",
       "    .dataframe thead th {\n",
       "        text-align: right;\n",
       "    }\n",
       "</style>\n",
       "<table border=\"1\" class=\"dataframe\">\n",
       "  <thead>\n",
       "    <tr style=\"text-align: right;\">\n",
       "      <th></th>\n",
       "      <th>Currency</th>\n",
       "      <th>Price</th>\n",
       "      <th>Datum</th>\n",
       "      <th>ISIN</th>\n",
       "    </tr>\n",
       "  </thead>\n",
       "  <tbody>\n",
       "    <tr>\n",
       "      <th>0</th>\n",
       "      <td>EUR</td>\n",
       "      <td>54.10</td>\n",
       "      <td>30.12.2020</td>\n",
       "      <td>LU0380865021</td>\n",
       "    </tr>\n",
       "    <tr>\n",
       "      <th>1</th>\n",
       "      <td>EUR</td>\n",
       "      <td>31.63</td>\n",
       "      <td>30.12.2020</td>\n",
       "      <td>IE00B1W57M07</td>\n",
       "    </tr>\n",
       "    <tr>\n",
       "      <th>2</th>\n",
       "      <td>EUR</td>\n",
       "      <td>29.06</td>\n",
       "      <td>30.12.2020</td>\n",
       "      <td>IE00BKM4GZ66</td>\n",
       "    </tr>\n",
       "    <tr>\n",
       "      <th>3</th>\n",
       "      <td>EUR</td>\n",
       "      <td>5.93</td>\n",
       "      <td>30.12.2020</td>\n",
       "      <td>IE00BD1F4M44</td>\n",
       "    </tr>\n",
       "    <tr>\n",
       "      <th>4</th>\n",
       "      <td>EUR</td>\n",
       "      <td>307.31</td>\n",
       "      <td>30.12.2020</td>\n",
       "      <td>IE00B5BMR087</td>\n",
       "    </tr>\n",
       "  </tbody>\n",
       "</table>\n",
       "</div>"
      ],
      "text/plain": [
       "  Currency   Price       Datum          ISIN\n",
       "0      EUR   54.10  30.12.2020  LU0380865021\n",
       "1      EUR   31.63  30.12.2020  IE00B1W57M07\n",
       "2      EUR   29.06  30.12.2020  IE00BKM4GZ66\n",
       "3      EUR    5.93  30.12.2020  IE00BD1F4M44\n",
       "4      EUR  307.31  30.12.2020  IE00B5BMR087"
      ]
     },
     "execution_count": 13,
     "metadata": {},
     "output_type": "execute_result"
    }
   ],
   "source": [
    "df_price.head()"
   ]
  },
  {
   "cell_type": "code",
   "execution_count": 14,
   "metadata": {},
   "outputs": [],
   "source": [
    "s = None"
   ]
  },
  {
   "cell_type": "code",
   "execution_count": 15,
   "metadata": {},
   "outputs": [
    {
     "data": {
      "text/plain": [
       "NoneType"
      ]
     },
     "execution_count": 15,
     "metadata": {},
     "output_type": "execute_result"
    }
   ],
   "source": [
    "type(s)"
   ]
  },
  {
   "cell_type": "code",
   "execution_count": 16,
   "metadata": {},
   "outputs": [
    {
     "data": {
      "text/plain": [
       "NoneType"
      ]
     },
     "execution_count": 16,
     "metadata": {},
     "output_type": "execute_result"
    }
   ],
   "source": [
    "type(None)"
   ]
  },
  {
   "cell_type": "code",
   "execution_count": null,
   "metadata": {},
   "outputs": [],
   "source": []
  }
 ],
 "metadata": {
  "kernelspec": {
   "display_name": "Python 3",
   "language": "python",
   "name": "python3"
  },
  "language_info": {
   "codemirror_mode": {
    "name": "ipython",
    "version": 3
   },
   "file_extension": ".py",
   "mimetype": "text/x-python",
   "name": "python",
   "nbconvert_exporter": "python",
   "pygments_lexer": "ipython3",
   "version": "3.7.5"
  }
 },
 "nbformat": 4,
 "nbformat_minor": 2
}
