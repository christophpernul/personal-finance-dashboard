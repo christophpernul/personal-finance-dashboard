{
 "cells": [
  {
   "cell_type": "code",
   "execution_count": 1,
   "metadata": {},
   "outputs": [],
   "source": [
    "import requests\n",
    "import json\n",
    "from bs4 import BeautifulSoup\n",
    "import pandas as pd\n",
    "from datetime import date"
   ]
  },
  {
   "cell_type": "code",
   "execution_count": 2,
   "metadata": {},
   "outputs": [],
   "source": [
    "def url(isin):\n",
    "    return(\"https://www.justetf.com/de/etf-profile.html?query={0}&groupField=index&from=search&isin={0}#overview\"\\\n",
    "          .format(isin))\n",
    "\n",
    "def get_price_stock(soup_base):\n",
    "    assert isinstance(soup_base, type(BeautifulSoup())), \"Input is no BeautifulSoup object!\"\n",
    "    price_dict = {}\n",
    "    \n",
    "    price_obj = soup_base.find_all(\"div\", {\"class\": \"infobox\"})[0].find_all(\"div\", {\"class\": \"val\"})[0].find_all(\"span\")\n",
    "    currency = price_obj[0].text\n",
    "    price = float(price_obj[1].text.replace(\".\", \"\").replace(\",\", \".\"))\n",
    "    \n",
    "    price_dict[\"Currency\"] = currency\n",
    "    price_dict[\"Price\"] = price\n",
    "    price_dict[\"Datum\"] = date.today().strftime(\"%d.%m.%Y\")\n",
    "\n",
    "    return(price_dict)\n",
    "\n",
    "def get_prices(isin_list):\n",
    "    stock_list = []\n",
    "    for isin in isin_list:\n",
    "        r = requests.get(url(isin))\n",
    "        assert r.status_code == 200, \"HTTP Error, {}\".format(r.status_code)\n",
    "        \n",
    "        html = r.content.decode(\"utf-8\")\n",
    "        soup = BeautifulSoup(html, 'html.parser')\n",
    "        stock_dict = get_price_stock(soup)\n",
    "        stock_dict[\"ISIN\"] = isin\n",
    "        stock_list.append(stock_dict)\n",
    "    return(stock_list)\n",
    "\n",
    "def get_master_data_stock(soup_base):\n",
    "    assert isinstance(soup_base, type(BeautifulSoup())), \"Input is no BeautifulSoup object!\"\n",
    "    metadata = {}\n",
    "    ### Get name of stock\n",
    "    stock_name = soup_base.find_all(\"h1\")[0].find_all(\"span\", {\"class\":\"h1\"})[0].text\n",
    "    metadata[\"Name\"] = stock_name\n",
    "    ### Get metadata from infoboxes: Fondssize, TER\n",
    "    infoboxes = soup_base.find_all(\"div\", {\"class\": \"infobox\"})\n",
    "    for box in infoboxes:\n",
    "        value = box.find_all(\"div\", {\"class\": \"val\"})[0].text.replace(\" \", \"\").replace(\"\\n\", \"\")\n",
    "        label = box.find_all(\"div\", {\"class\": \"vallabel\"})[0].text.replace(\" \", \"\").replace(\"\\n\", \"\")\n",
    "        if label == \"Fondsgröße\":\n",
    "            assert value[:3] == \"EUR\", \"Fondsgröße not given in EUR!\"\n",
    "            assert value[-4:] == \"Mio.\", \"Fondsgröße not given in Mio EUR!\"\n",
    "            metadata[\"Fondssize\"] = int(float(value[3:-4])*10**6)\n",
    "        elif label == \"Gesamtkostenquote(TER)\":\n",
    "            assert value[-4:] == \"p.a.\", \"TER not given per year!\"\n",
    "            metadata[\"TER%\"] = float(value[:-5].replace(\".\", \"\").replace(\",\", \".\"))\n",
    "    ### Get metadata from tables\n",
    "    tables = soup_base.find_all(\"table\")\n",
    "    needed_labels = [\"Replikationsmethode\", \"RechtlicheStruktur\", \"Fondswährung\", \"Auflagedatum/Handelsbeginn\",\n",
    "                    \"Ausschüttung\", \"Ausschüttungsintervall\", \"Fondsdomizil\", \"Fondsstruktur\", \"Anbieter\", \n",
    "                    \"Depotbank\", \"Wirtschaftsprüfer\"]\n",
    "    for table in tables:\n",
    "        bodies = table.find_all(\"tbody\")\n",
    "        for body in bodies:\n",
    "            rows = body.find_all(\"tr\")\n",
    "            for row in rows:\n",
    "                if len(row.find_all(\"td\")) == 2:\n",
    "                    label = row.find_all(\"td\")[0].text.replace(\" \", \"\").replace(\"\\n\", \"\")\n",
    "                    value = row.find_all(\"td\")[1].text.replace(\" \", \"\").replace(\"\\n\", \"\")\n",
    "                    if label in needed_labels:\n",
    "                        metadata[label] = value\n",
    "    return(metadata)\n",
    "\n",
    "def get_master_data(isin_list):\n",
    "    stock_list = []\n",
    "    for isin in isin_list:\n",
    "        r = requests.get(url(isin))\n",
    "        assert r.status_code == 200, \"HTTP Error, {}\".format(r.status_code)\n",
    "        \n",
    "        html = r.content.decode(\"utf-8\")\n",
    "        soup = BeautifulSoup(html, 'html.parser')\n",
    "        stock_dict = get_master_data_stock(soup)\n",
    "        stock_dict[\"ISIN\"] = isin\n",
    "        stock_list.append(stock_dict)\n",
    "    return(stock_list)"
   ]
  },
  {
   "cell_type": "code",
   "execution_count": 11,
   "metadata": {},
   "outputs": [],
   "source": [
    "isin = \"LU0290355717\"\n",
    "r = requests.get(url(isin))\n",
    "assert r.status_code == 200, \"HTTP Error, {}\".format(r.status_code)\n",
    "\n",
    "html = r.content.decode(\"utf-8\")\n",
    "soup_base = BeautifulSoup(html, 'html.parser')"
   ]
  },
  {
   "cell_type": "code",
   "execution_count": 12,
   "metadata": {},
   "outputs": [
    {
     "data": {
      "text/plain": [
       "'Xtrackers Eurozone Government Bond UCITS ETF 1C'"
      ]
     },
     "execution_count": 12,
     "metadata": {},
     "output_type": "execute_result"
    }
   ],
   "source": [
    "soup_base.find_all(\"h1\")[0].find_all(\"span\", {\"class\": \"h1\"})[0].text"
   ]
  },
  {
   "cell_type": "code",
   "execution_count": 59,
   "metadata": {},
   "outputs": [
    {
     "name": "stdout",
     "output_type": "stream",
     "text": [
      "0\n",
      "[<div class=\"val\">\n",
      "<span>EUR</span>\n",
      "<span>250,52</span>\n",
      "</div>]\n",
      "1\n",
      "[]\n",
      "2\n",
      "[]\n",
      "3\n",
      "[]\n",
      "4\n",
      "[]\n",
      "5\n",
      "[<div class=\"val\">\n",
      "                                EUR\n",
      "                                2.719\n",
      "                                Mio.\n",
      "                            </div>]\n",
      "6\n",
      "[<div class=\"val\">0,15% p.a.</div>]\n"
     ]
    }
   ],
   "source": [
    "metadata = {}\n",
    "### Get name of stock\n",
    "stock_name = soup_base.find_all(\"h1\")[0].find_all(\"span\", {\"class\": \"h1\"})[0].text\n",
    "metadata[\"Name\"] = stock_name\n",
    "### Get metadata from infoboxes: Fondssize, TER\n",
    "infoboxes = soup_base.find_all(\"div\", {\"class\": \"infobox\"})\n",
    "for idx, box in enumerate(infoboxes):\n",
    "    print(idx)\n",
    "    print(box.find_all(\"div\", {\"class\": \"val\"}))\n",
    "    try:\n",
    "        value = box.find_all(\"div\", {\"class\": \"val\"})[0].text.replace(\" \", \"\").replace(\"\\n\", \"\")\n",
    "        label = box.find_all(\"div\", {\"class\": \"vallabel\"})[0].text.replace(\" \", \"\").replace(\"\\n\", \"\")\n",
    "    except IndexError:\n",
    "        continue\n",
    "    if label == \"Fondsgröße\":\n",
    "        assert value[:3] == \"EUR\", \"Fondsgröße not given in EUR!\"\n",
    "        assert value[-4:] == \"Mio.\", \"Fondsgröße not given in Mio EUR!\"\n",
    "        metadata[\"Fondssize\"] = int(float(value[3:-4]) * 10 ** 6)\n",
    "    elif label == \"Gesamtkostenquote(TER)\":\n",
    "        assert value[-4:] == \"p.a.\", \"TER not given per year!\"\n",
    "        metadata[\"TER%\"] = float(value[:-5].replace(\".\", \"\").replace(\",\", \".\"))\n",
    "### Get metadata from tables\n",
    "tables = soup_base.find_all(\"table\")\n",
    "needed_labels = [\"Replikationsmethode\", \"RechtlicheStruktur\", \"Fondswährung\", \"Auflagedatum/Handelsbeginn\",\n",
    "                 \"Ausschüttung\", \"Ausschüttungsintervall\", \"Fondsdomizil\", \"Fondsstruktur\", \"Anbieter\",\n",
    "                 \"Depotbank\", \"Wirtschaftsprüfer\"]\n",
    "for table in tables:\n",
    "    bodies = table.find_all(\"tbody\")\n",
    "    for body in bodies:\n",
    "        rows = body.find_all(\"tr\")\n",
    "        for row in rows:\n",
    "            if len(row.find_all(\"td\")) == 2:\n",
    "                label = row.find_all(\"td\")[0].text.replace(\" \", \"\").replace(\"\\n\", \"\")\n",
    "                value = row.find_all(\"td\")[1].text.replace(\" \", \"\").replace(\"\\n\", \"\")\n",
    "                if label in needed_labels:\n",
    "                    metadata[label] = value"
   ]
  },
  {
   "cell_type": "code",
   "execution_count": 60,
   "metadata": {},
   "outputs": [
    {
     "data": {
      "text/plain": [
       "{'Name': 'Xtrackers Eurozone Government Bond UCITS ETF 1C',\n",
       " 'Fondssize': 2719000,\n",
       " 'TER%': 0.15,\n",
       " 'Replikationsmethode': 'Physisch(Sampling)',\n",
       " 'RechtlicheStruktur': 'ETF',\n",
       " 'Fondswährung': 'EUR',\n",
       " 'Auflagedatum/Handelsbeginn': '22.Mai2007',\n",
       " 'Ausschüttung': 'Thesaurierend',\n",
       " 'Ausschüttungsintervall': '-',\n",
       " 'Fondsdomizil': 'Luxemburg',\n",
       " 'Fondsstruktur': 'CompanyWithVariableCapital(SICAV)',\n",
       " 'Anbieter': 'Xtrackers',\n",
       " 'Depotbank': 'StateStreetBankInternationalGmbH,LuxembourgBranch',\n",
       " 'Wirtschaftsprüfer': 'Ernst&YoungS.A.'}"
      ]
     },
     "execution_count": 60,
     "metadata": {},
     "output_type": "execute_result"
    }
   ],
   "source": [
    "metadata"
   ]
  },
  {
   "cell_type": "code",
   "execution_count": 48,
   "metadata": {},
   "outputs": [
    {
     "data": {
      "text/plain": [
       "'\\n                                XETRA\\n                                \\n                                23.12.21\\n                            '"
      ]
     },
     "execution_count": 48,
     "metadata": {},
     "output_type": "execute_result"
    }
   ],
   "source": [
    "box.find_all(\"div\", {\"class\": \"vallabel\"})[0].text"
   ]
  },
  {
   "cell_type": "markdown",
   "metadata": {},
   "source": [
    "# Check existing implementation"
   ]
  },
  {
   "cell_type": "code",
   "execution_count": 4,
   "metadata": {},
   "outputs": [],
   "source": [
    "path_all_isin = \"/home/chris/Dropbox/Finance/data/ETF_investing.ods\"\n",
    "path_needed_isin = \"/home/chris/Dropbox/Finance/data/finanzübersicht.ods\"\n",
    "out_path_master = \"/home/chris/Dropbox/Finance/data/master_data_stocks.ods\"\n",
    "out_path_prices = \"/home/chris/Dropbox/Finance/stock_prices.ods\""
   ]
  },
  {
   "cell_type": "code",
   "execution_count": 5,
   "metadata": {},
   "outputs": [],
   "source": [
    "df_in = pd.read_excel(path_all_isin, engine=\"odf\", sheet_name=\"ETF list\")\n",
    "isin_list_in = list(df_in[\"ISIN\"].drop_duplicates())"
   ]
  },
  {
   "cell_type": "code",
   "execution_count": 6,
   "metadata": {},
   "outputs": [
    {
     "data": {
      "text/plain": [
       "85"
      ]
     },
     "execution_count": 6,
     "metadata": {},
     "output_type": "execute_result"
    }
   ],
   "source": [
    "len(isin_list_in)"
   ]
  },
  {
   "cell_type": "code",
   "execution_count": 7,
   "metadata": {},
   "outputs": [
    {
     "ename": "KeyError",
     "evalue": "'name'",
     "output_type": "error",
     "traceback": [
      "\u001b[0;31m---------------------------------------------------------------------------\u001b[0m",
      "\u001b[0;31mKeyError\u001b[0m                                  Traceback (most recent call last)",
      "\u001b[0;32m<ipython-input-7-a271dc16d84b>\u001b[0m in \u001b[0;36m<module>\u001b[0;34m()\u001b[0m\n\u001b[0;32m----> 1\u001b[0;31m \u001b[0mdfn\u001b[0m \u001b[0;34m=\u001b[0m \u001b[0mpd\u001b[0m\u001b[0;34m.\u001b[0m\u001b[0mread_excel\u001b[0m\u001b[0;34m(\u001b[0m\u001b[0mpath_needed_isin\u001b[0m\u001b[0;34m,\u001b[0m \u001b[0mengine\u001b[0m\u001b[0;34m=\u001b[0m\u001b[0;34m\"odf\"\u001b[0m\u001b[0;34m,\u001b[0m \u001b[0msheet_name\u001b[0m\u001b[0;34m=\u001b[0m\u001b[0;34m\"3.2 Portfolio langfristig Transactions\"\u001b[0m\u001b[0;34m)\u001b[0m\u001b[0;34m\u001b[0m\u001b[0;34m\u001b[0m\u001b[0m\n\u001b[0m\u001b[1;32m      2\u001b[0m \u001b[0misin_list\u001b[0m \u001b[0;34m=\u001b[0m \u001b[0mlist\u001b[0m\u001b[0;34m(\u001b[0m\u001b[0mdfn\u001b[0m\u001b[0;34m[\u001b[0m\u001b[0;34m\"ISIN\"\u001b[0m\u001b[0;34m]\u001b[0m\u001b[0;34m.\u001b[0m\u001b[0mdropna\u001b[0m\u001b[0;34m(\u001b[0m\u001b[0;34m)\u001b[0m\u001b[0;34m.\u001b[0m\u001b[0mdrop_duplicates\u001b[0m\u001b[0;34m(\u001b[0m\u001b[0;34m)\u001b[0m\u001b[0;34m)\u001b[0m\u001b[0;34m\u001b[0m\u001b[0;34m\u001b[0m\u001b[0m\n",
      "\u001b[0;32m~/anaconda3/lib/python3.7/site-packages/pandas/util/_decorators.py\u001b[0m in \u001b[0;36mwrapper\u001b[0;34m(*args, **kwargs)\u001b[0m\n\u001b[1;32m    206\u001b[0m                 \u001b[0;32melse\u001b[0m\u001b[0;34m:\u001b[0m\u001b[0;34m\u001b[0m\u001b[0;34m\u001b[0m\u001b[0m\n\u001b[1;32m    207\u001b[0m                     \u001b[0mkwargs\u001b[0m\u001b[0;34m[\u001b[0m\u001b[0mnew_arg_name\u001b[0m\u001b[0;34m]\u001b[0m \u001b[0;34m=\u001b[0m \u001b[0mnew_arg_value\u001b[0m\u001b[0;34m\u001b[0m\u001b[0;34m\u001b[0m\u001b[0m\n\u001b[0;32m--> 208\u001b[0;31m             \u001b[0;32mreturn\u001b[0m \u001b[0mfunc\u001b[0m\u001b[0;34m(\u001b[0m\u001b[0;34m*\u001b[0m\u001b[0margs\u001b[0m\u001b[0;34m,\u001b[0m \u001b[0;34m**\u001b[0m\u001b[0mkwargs\u001b[0m\u001b[0;34m)\u001b[0m\u001b[0;34m\u001b[0m\u001b[0;34m\u001b[0m\u001b[0m\n\u001b[0m\u001b[1;32m    209\u001b[0m \u001b[0;34m\u001b[0m\u001b[0m\n\u001b[1;32m    210\u001b[0m         \u001b[0;32mreturn\u001b[0m \u001b[0mwrapper\u001b[0m\u001b[0;34m\u001b[0m\u001b[0;34m\u001b[0m\u001b[0m\n",
      "\u001b[0;32m~/anaconda3/lib/python3.7/site-packages/pandas/io/excel/_base.py\u001b[0m in \u001b[0;36mread_excel\u001b[0;34m(io, sheet_name, header, names, index_col, usecols, squeeze, dtype, engine, converters, true_values, false_values, skiprows, nrows, na_values, keep_default_na, verbose, parse_dates, date_parser, thousands, comment, skip_footer, skipfooter, convert_float, mangle_dupe_cols, **kwds)\u001b[0m\n\u001b[1;32m    338\u001b[0m         \u001b[0mconvert_float\u001b[0m\u001b[0;34m=\u001b[0m\u001b[0mconvert_float\u001b[0m\u001b[0;34m,\u001b[0m\u001b[0;34m\u001b[0m\u001b[0;34m\u001b[0m\u001b[0m\n\u001b[1;32m    339\u001b[0m         \u001b[0mmangle_dupe_cols\u001b[0m\u001b[0;34m=\u001b[0m\u001b[0mmangle_dupe_cols\u001b[0m\u001b[0;34m,\u001b[0m\u001b[0;34m\u001b[0m\u001b[0;34m\u001b[0m\u001b[0m\n\u001b[0;32m--> 340\u001b[0;31m         \u001b[0;34m**\u001b[0m\u001b[0mkwds\u001b[0m\u001b[0;34m\u001b[0m\u001b[0;34m\u001b[0m\u001b[0m\n\u001b[0m\u001b[1;32m    341\u001b[0m     )\n\u001b[1;32m    342\u001b[0m \u001b[0;34m\u001b[0m\u001b[0m\n",
      "\u001b[0;32m~/anaconda3/lib/python3.7/site-packages/pandas/io/excel/_base.py\u001b[0m in \u001b[0;36mparse\u001b[0;34m(self, sheet_name, header, names, index_col, usecols, squeeze, converters, true_values, false_values, skiprows, nrows, na_values, parse_dates, date_parser, thousands, comment, skipfooter, convert_float, mangle_dupe_cols, **kwds)\u001b[0m\n\u001b[1;32m    881\u001b[0m             \u001b[0mconvert_float\u001b[0m\u001b[0;34m=\u001b[0m\u001b[0mconvert_float\u001b[0m\u001b[0;34m,\u001b[0m\u001b[0;34m\u001b[0m\u001b[0;34m\u001b[0m\u001b[0m\n\u001b[1;32m    882\u001b[0m             \u001b[0mmangle_dupe_cols\u001b[0m\u001b[0;34m=\u001b[0m\u001b[0mmangle_dupe_cols\u001b[0m\u001b[0;34m,\u001b[0m\u001b[0;34m\u001b[0m\u001b[0;34m\u001b[0m\u001b[0m\n\u001b[0;32m--> 883\u001b[0;31m             \u001b[0;34m**\u001b[0m\u001b[0mkwds\u001b[0m\u001b[0;34m\u001b[0m\u001b[0;34m\u001b[0m\u001b[0m\n\u001b[0m\u001b[1;32m    884\u001b[0m         )\n\u001b[1;32m    885\u001b[0m \u001b[0;34m\u001b[0m\u001b[0m\n",
      "\u001b[0;32m~/anaconda3/lib/python3.7/site-packages/pandas/io/excel/_base.py\u001b[0m in \u001b[0;36mparse\u001b[0;34m(self, sheet_name, header, names, index_col, usecols, squeeze, dtype, true_values, false_values, skiprows, nrows, na_values, verbose, parse_dates, date_parser, thousands, comment, skipfooter, convert_float, mangle_dupe_cols, **kwds)\u001b[0m\n\u001b[1;32m    438\u001b[0m \u001b[0;34m\u001b[0m\u001b[0m\n\u001b[1;32m    439\u001b[0m             \u001b[0;32mif\u001b[0m \u001b[0misinstance\u001b[0m\u001b[0;34m(\u001b[0m\u001b[0masheetname\u001b[0m\u001b[0;34m,\u001b[0m \u001b[0mstr\u001b[0m\u001b[0;34m)\u001b[0m\u001b[0;34m:\u001b[0m\u001b[0;34m\u001b[0m\u001b[0;34m\u001b[0m\u001b[0m\n\u001b[0;32m--> 440\u001b[0;31m                 \u001b[0msheet\u001b[0m \u001b[0;34m=\u001b[0m \u001b[0mself\u001b[0m\u001b[0;34m.\u001b[0m\u001b[0mget_sheet_by_name\u001b[0m\u001b[0;34m(\u001b[0m\u001b[0masheetname\u001b[0m\u001b[0;34m)\u001b[0m\u001b[0;34m\u001b[0m\u001b[0;34m\u001b[0m\u001b[0m\n\u001b[0m\u001b[1;32m    441\u001b[0m             \u001b[0;32melse\u001b[0m\u001b[0;34m:\u001b[0m  \u001b[0;31m# assume an integer if not a string\u001b[0m\u001b[0;34m\u001b[0m\u001b[0;34m\u001b[0m\u001b[0m\n\u001b[1;32m    442\u001b[0m                 \u001b[0msheet\u001b[0m \u001b[0;34m=\u001b[0m \u001b[0mself\u001b[0m\u001b[0;34m.\u001b[0m\u001b[0mget_sheet_by_index\u001b[0m\u001b[0;34m(\u001b[0m\u001b[0masheetname\u001b[0m\u001b[0;34m)\u001b[0m\u001b[0;34m\u001b[0m\u001b[0;34m\u001b[0m\u001b[0m\n",
      "\u001b[0;32m~/anaconda3/lib/python3.7/site-packages/pandas/io/excel/_odfreader.py\u001b[0m in \u001b[0;36mget_sheet_by_name\u001b[0;34m(self, name)\u001b[0m\n\u001b[1;32m     61\u001b[0m                 \u001b[0;32mreturn\u001b[0m \u001b[0mtable\u001b[0m\u001b[0;34m\u001b[0m\u001b[0;34m\u001b[0m\u001b[0m\n\u001b[1;32m     62\u001b[0m \u001b[0;34m\u001b[0m\u001b[0m\n\u001b[0;32m---> 63\u001b[0;31m         \u001b[0;32mraise\u001b[0m \u001b[0mValueError\u001b[0m\u001b[0;34m(\u001b[0m\u001b[0;34m\"sheet {name} not found\"\u001b[0m\u001b[0;34m.\u001b[0m\u001b[0mformat\u001b[0m\u001b[0;34m(\u001b[0m\u001b[0mname\u001b[0m\u001b[0;34m)\u001b[0m\u001b[0;34m)\u001b[0m\u001b[0;34m\u001b[0m\u001b[0;34m\u001b[0m\u001b[0m\n\u001b[0m\u001b[1;32m     64\u001b[0m \u001b[0;34m\u001b[0m\u001b[0m\n\u001b[1;32m     65\u001b[0m     \u001b[0;32mdef\u001b[0m \u001b[0mget_sheet_data\u001b[0m\u001b[0;34m(\u001b[0m\u001b[0mself\u001b[0m\u001b[0;34m,\u001b[0m \u001b[0msheet\u001b[0m\u001b[0;34m,\u001b[0m \u001b[0mconvert_float\u001b[0m\u001b[0;34m:\u001b[0m \u001b[0mbool\u001b[0m\u001b[0;34m)\u001b[0m \u001b[0;34m->\u001b[0m \u001b[0mList\u001b[0m\u001b[0;34m[\u001b[0m\u001b[0mList\u001b[0m\u001b[0;34m[\u001b[0m\u001b[0mScalar\u001b[0m\u001b[0;34m]\u001b[0m\u001b[0;34m]\u001b[0m\u001b[0;34m:\u001b[0m\u001b[0;34m\u001b[0m\u001b[0;34m\u001b[0m\u001b[0m\n",
      "\u001b[0;31mKeyError\u001b[0m: 'name'"
     ]
    }
   ],
   "source": [
    "dfn = pd.read_excel(path_needed_isin, engine=\"odf\", sheet_name=\"3.2 Portfolio langfristig Transactions\")\n",
    "isin_list = list(dfn[\"ISIN\"].dropna().drop_duplicates())"
   ]
  },
  {
   "cell_type": "code",
   "execution_count": 8,
   "metadata": {},
   "outputs": [
    {
     "ename": "NameError",
     "evalue": "name 'isin_list' is not defined",
     "output_type": "error",
     "traceback": [
      "\u001b[0;31m---------------------------------------------------------------------------\u001b[0m",
      "\u001b[0;31mNameError\u001b[0m                                 Traceback (most recent call last)",
      "\u001b[0;32m<ipython-input-8-44db98463591>\u001b[0m in \u001b[0;36m<module>\u001b[0;34m()\u001b[0m\n\u001b[0;32m----> 1\u001b[0;31m \u001b[0mlen\u001b[0m\u001b[0;34m(\u001b[0m\u001b[0misin_list\u001b[0m\u001b[0;34m)\u001b[0m\u001b[0;34m\u001b[0m\u001b[0;34m\u001b[0m\u001b[0m\n\u001b[0m",
      "\u001b[0;31mNameError\u001b[0m: name 'isin_list' is not defined"
     ]
    }
   ],
   "source": [
    "len(isin_list)"
   ]
  },
  {
   "cell_type": "code",
   "execution_count": 9,
   "metadata": {},
   "outputs": [
    {
     "ename": "IndexError",
     "evalue": "list index out of range",
     "output_type": "error",
     "traceback": [
      "\u001b[0;31m---------------------------------------------------------------------------\u001b[0m",
      "\u001b[0;31mIndexError\u001b[0m                                Traceback (most recent call last)",
      "\u001b[0;32m<ipython-input-9-497875ffb517>\u001b[0m in \u001b[0;36m<module>\u001b[0;34m()\u001b[0m\n\u001b[0;32m----> 1\u001b[0;31m \u001b[0mstocks\u001b[0m \u001b[0;34m=\u001b[0m \u001b[0mget_master_data\u001b[0m\u001b[0;34m(\u001b[0m\u001b[0misin_list_in\u001b[0m\u001b[0;34m)\u001b[0m\u001b[0;34m\u001b[0m\u001b[0;34m\u001b[0m\u001b[0m\n\u001b[0m\u001b[1;32m      2\u001b[0m \u001b[0mdf\u001b[0m \u001b[0;34m=\u001b[0m \u001b[0mpd\u001b[0m\u001b[0;34m.\u001b[0m\u001b[0mDataFrame\u001b[0m\u001b[0;34m(\u001b[0m\u001b[0mstocks\u001b[0m\u001b[0;34m)\u001b[0m\u001b[0;34m\u001b[0m\u001b[0;34m\u001b[0m\u001b[0m\n\u001b[1;32m      3\u001b[0m \u001b[0;32massert\u001b[0m \u001b[0mdf\u001b[0m\u001b[0;34m.\u001b[0m\u001b[0mcount\u001b[0m\u001b[0;34m(\u001b[0m\u001b[0;34m)\u001b[0m\u001b[0;34m[\u001b[0m\u001b[0;36m0\u001b[0m\u001b[0;34m]\u001b[0m \u001b[0;34m==\u001b[0m \u001b[0mlen\u001b[0m\u001b[0;34m(\u001b[0m\u001b[0misin_list_in\u001b[0m\u001b[0;34m)\u001b[0m\u001b[0;34m,\u001b[0m \u001b[0;34m\"Too less rows!\"\u001b[0m\u001b[0;34m\u001b[0m\u001b[0;34m\u001b[0m\u001b[0m\n\u001b[1;32m      4\u001b[0m \u001b[0mdf\u001b[0m\u001b[0;34m.\u001b[0m\u001b[0mto_csv\u001b[0m\u001b[0;34m(\u001b[0m\u001b[0mout_path_master\u001b[0m\u001b[0;34m,\u001b[0m \u001b[0mindex\u001b[0m\u001b[0;34m=\u001b[0m\u001b[0;32mFalse\u001b[0m\u001b[0;34m)\u001b[0m\u001b[0;34m\u001b[0m\u001b[0;34m\u001b[0m\u001b[0m\n",
      "\u001b[0;32m<ipython-input-2-65794b6e59c1>\u001b[0m in \u001b[0;36mget_master_data\u001b[0;34m(isin_list)\u001b[0m\n\u001b[1;32m     72\u001b[0m         \u001b[0mhtml\u001b[0m \u001b[0;34m=\u001b[0m \u001b[0mr\u001b[0m\u001b[0;34m.\u001b[0m\u001b[0mcontent\u001b[0m\u001b[0;34m.\u001b[0m\u001b[0mdecode\u001b[0m\u001b[0;34m(\u001b[0m\u001b[0;34m\"utf-8\"\u001b[0m\u001b[0;34m)\u001b[0m\u001b[0;34m\u001b[0m\u001b[0;34m\u001b[0m\u001b[0m\n\u001b[1;32m     73\u001b[0m         \u001b[0msoup\u001b[0m \u001b[0;34m=\u001b[0m \u001b[0mBeautifulSoup\u001b[0m\u001b[0;34m(\u001b[0m\u001b[0mhtml\u001b[0m\u001b[0;34m,\u001b[0m \u001b[0;34m'html.parser'\u001b[0m\u001b[0;34m)\u001b[0m\u001b[0;34m\u001b[0m\u001b[0;34m\u001b[0m\u001b[0m\n\u001b[0;32m---> 74\u001b[0;31m         \u001b[0mstock_dict\u001b[0m \u001b[0;34m=\u001b[0m \u001b[0mget_master_data_stock\u001b[0m\u001b[0;34m(\u001b[0m\u001b[0msoup\u001b[0m\u001b[0;34m)\u001b[0m\u001b[0;34m\u001b[0m\u001b[0;34m\u001b[0m\u001b[0m\n\u001b[0m\u001b[1;32m     75\u001b[0m         \u001b[0mstock_dict\u001b[0m\u001b[0;34m[\u001b[0m\u001b[0;34m\"ISIN\"\u001b[0m\u001b[0;34m]\u001b[0m \u001b[0;34m=\u001b[0m \u001b[0misin\u001b[0m\u001b[0;34m\u001b[0m\u001b[0;34m\u001b[0m\u001b[0m\n\u001b[1;32m     76\u001b[0m         \u001b[0mstock_list\u001b[0m\u001b[0;34m.\u001b[0m\u001b[0mappend\u001b[0m\u001b[0;34m(\u001b[0m\u001b[0mstock_dict\u001b[0m\u001b[0;34m)\u001b[0m\u001b[0;34m\u001b[0m\u001b[0;34m\u001b[0m\u001b[0m\n",
      "\u001b[0;32m<ipython-input-2-65794b6e59c1>\u001b[0m in \u001b[0;36mget_master_data_stock\u001b[0;34m(soup_base)\u001b[0m\n\u001b[1;32m     38\u001b[0m     \u001b[0minfoboxes\u001b[0m \u001b[0;34m=\u001b[0m \u001b[0msoup_base\u001b[0m\u001b[0;34m.\u001b[0m\u001b[0mfind_all\u001b[0m\u001b[0;34m(\u001b[0m\u001b[0;34m\"div\"\u001b[0m\u001b[0;34m,\u001b[0m \u001b[0;34m{\u001b[0m\u001b[0;34m\"class\"\u001b[0m\u001b[0;34m:\u001b[0m \u001b[0;34m\"infobox\"\u001b[0m\u001b[0;34m}\u001b[0m\u001b[0;34m)\u001b[0m\u001b[0;34m\u001b[0m\u001b[0;34m\u001b[0m\u001b[0m\n\u001b[1;32m     39\u001b[0m     \u001b[0;32mfor\u001b[0m \u001b[0mbox\u001b[0m \u001b[0;32min\u001b[0m \u001b[0minfoboxes\u001b[0m\u001b[0;34m:\u001b[0m\u001b[0;34m\u001b[0m\u001b[0;34m\u001b[0m\u001b[0m\n\u001b[0;32m---> 40\u001b[0;31m         \u001b[0mvalue\u001b[0m \u001b[0;34m=\u001b[0m \u001b[0mbox\u001b[0m\u001b[0;34m.\u001b[0m\u001b[0mfind_all\u001b[0m\u001b[0;34m(\u001b[0m\u001b[0;34m\"div\"\u001b[0m\u001b[0;34m,\u001b[0m \u001b[0;34m{\u001b[0m\u001b[0;34m\"class\"\u001b[0m\u001b[0;34m:\u001b[0m \u001b[0;34m\"val\"\u001b[0m\u001b[0;34m}\u001b[0m\u001b[0;34m)\u001b[0m\u001b[0;34m[\u001b[0m\u001b[0;36m0\u001b[0m\u001b[0;34m]\u001b[0m\u001b[0;34m.\u001b[0m\u001b[0mtext\u001b[0m\u001b[0;34m.\u001b[0m\u001b[0mreplace\u001b[0m\u001b[0;34m(\u001b[0m\u001b[0;34m\" \"\u001b[0m\u001b[0;34m,\u001b[0m \u001b[0;34m\"\"\u001b[0m\u001b[0;34m)\u001b[0m\u001b[0;34m.\u001b[0m\u001b[0mreplace\u001b[0m\u001b[0;34m(\u001b[0m\u001b[0;34m\"\\n\"\u001b[0m\u001b[0;34m,\u001b[0m \u001b[0;34m\"\"\u001b[0m\u001b[0;34m)\u001b[0m\u001b[0;34m\u001b[0m\u001b[0;34m\u001b[0m\u001b[0m\n\u001b[0m\u001b[1;32m     41\u001b[0m         \u001b[0mlabel\u001b[0m \u001b[0;34m=\u001b[0m \u001b[0mbox\u001b[0m\u001b[0;34m.\u001b[0m\u001b[0mfind_all\u001b[0m\u001b[0;34m(\u001b[0m\u001b[0;34m\"div\"\u001b[0m\u001b[0;34m,\u001b[0m \u001b[0;34m{\u001b[0m\u001b[0;34m\"class\"\u001b[0m\u001b[0;34m:\u001b[0m \u001b[0;34m\"vallabel\"\u001b[0m\u001b[0;34m}\u001b[0m\u001b[0;34m)\u001b[0m\u001b[0;34m[\u001b[0m\u001b[0;36m0\u001b[0m\u001b[0;34m]\u001b[0m\u001b[0;34m.\u001b[0m\u001b[0mtext\u001b[0m\u001b[0;34m.\u001b[0m\u001b[0mreplace\u001b[0m\u001b[0;34m(\u001b[0m\u001b[0;34m\" \"\u001b[0m\u001b[0;34m,\u001b[0m \u001b[0;34m\"\"\u001b[0m\u001b[0;34m)\u001b[0m\u001b[0;34m.\u001b[0m\u001b[0mreplace\u001b[0m\u001b[0;34m(\u001b[0m\u001b[0;34m\"\\n\"\u001b[0m\u001b[0;34m,\u001b[0m \u001b[0;34m\"\"\u001b[0m\u001b[0;34m)\u001b[0m\u001b[0;34m\u001b[0m\u001b[0;34m\u001b[0m\u001b[0m\n\u001b[1;32m     42\u001b[0m         \u001b[0;32mif\u001b[0m \u001b[0mlabel\u001b[0m \u001b[0;34m==\u001b[0m \u001b[0;34m\"Fondsgröße\"\u001b[0m\u001b[0;34m:\u001b[0m\u001b[0;34m\u001b[0m\u001b[0;34m\u001b[0m\u001b[0m\n",
      "\u001b[0;31mIndexError\u001b[0m: list index out of range"
     ]
    }
   ],
   "source": [
    "stocks = get_master_data(isin_list_in)\n",
    "df = pd.DataFrame(stocks)\n",
    "assert df.count()[0] == len(isin_list_in), \"Too less rows!\"\n",
    "df.to_csv(out_path_master, index=False)"
   ]
  },
  {
   "cell_type": "code",
   "execution_count": 10,
   "metadata": {},
   "outputs": [],
   "source": [
    "prices = get_prices(isin_list)\n",
    "df_price = pd.DataFrame(prices)\n",
    "assert df_price.count()[0] == len(isin_list), \"Too less rows!\"\n",
    "df_price.to_csv(out_path_prices, index=False)"
   ]
  },
  {
   "cell_type": "code",
   "execution_count": 13,
   "metadata": {},
   "outputs": [
    {
     "data": {
      "text/html": [
       "<div>\n",
       "<style scoped>\n",
       "    .dataframe tbody tr th:only-of-type {\n",
       "        vertical-align: middle;\n",
       "    }\n",
       "\n",
       "    .dataframe tbody tr th {\n",
       "        vertical-align: top;\n",
       "    }\n",
       "\n",
       "    .dataframe thead th {\n",
       "        text-align: right;\n",
       "    }\n",
       "</style>\n",
       "<table border=\"1\" class=\"dataframe\">\n",
       "  <thead>\n",
       "    <tr style=\"text-align: right;\">\n",
       "      <th></th>\n",
       "      <th>Currency</th>\n",
       "      <th>Price</th>\n",
       "      <th>Datum</th>\n",
       "      <th>ISIN</th>\n",
       "    </tr>\n",
       "  </thead>\n",
       "  <tbody>\n",
       "    <tr>\n",
       "      <th>0</th>\n",
       "      <td>EUR</td>\n",
       "      <td>54.10</td>\n",
       "      <td>30.12.2020</td>\n",
       "      <td>LU0380865021</td>\n",
       "    </tr>\n",
       "    <tr>\n",
       "      <th>1</th>\n",
       "      <td>EUR</td>\n",
       "      <td>31.63</td>\n",
       "      <td>30.12.2020</td>\n",
       "      <td>IE00B1W57M07</td>\n",
       "    </tr>\n",
       "    <tr>\n",
       "      <th>2</th>\n",
       "      <td>EUR</td>\n",
       "      <td>29.06</td>\n",
       "      <td>30.12.2020</td>\n",
       "      <td>IE00BKM4GZ66</td>\n",
       "    </tr>\n",
       "    <tr>\n",
       "      <th>3</th>\n",
       "      <td>EUR</td>\n",
       "      <td>5.93</td>\n",
       "      <td>30.12.2020</td>\n",
       "      <td>IE00BD1F4M44</td>\n",
       "    </tr>\n",
       "    <tr>\n",
       "      <th>4</th>\n",
       "      <td>EUR</td>\n",
       "      <td>307.31</td>\n",
       "      <td>30.12.2020</td>\n",
       "      <td>IE00B5BMR087</td>\n",
       "    </tr>\n",
       "  </tbody>\n",
       "</table>\n",
       "</div>"
      ],
      "text/plain": [
       "  Currency   Price       Datum          ISIN\n",
       "0      EUR   54.10  30.12.2020  LU0380865021\n",
       "1      EUR   31.63  30.12.2020  IE00B1W57M07\n",
       "2      EUR   29.06  30.12.2020  IE00BKM4GZ66\n",
       "3      EUR    5.93  30.12.2020  IE00BD1F4M44\n",
       "4      EUR  307.31  30.12.2020  IE00B5BMR087"
      ]
     },
     "execution_count": 13,
     "metadata": {},
     "output_type": "execute_result"
    }
   ],
   "source": [
    "df_price.head()"
   ]
  },
  {
   "cell_type": "code",
   "execution_count": 14,
   "metadata": {},
   "outputs": [],
   "source": [
    "s = None"
   ]
  },
  {
   "cell_type": "code",
   "execution_count": 15,
   "metadata": {},
   "outputs": [
    {
     "data": {
      "text/plain": [
       "NoneType"
      ]
     },
     "execution_count": 15,
     "metadata": {},
     "output_type": "execute_result"
    }
   ],
   "source": [
    "type(s)"
   ]
  },
  {
   "cell_type": "code",
   "execution_count": 16,
   "metadata": {},
   "outputs": [
    {
     "data": {
      "text/plain": [
       "NoneType"
      ]
     },
     "execution_count": 16,
     "metadata": {},
     "output_type": "execute_result"
    }
   ],
   "source": [
    "type(None)"
   ]
  },
  {
   "cell_type": "code",
   "execution_count": null,
   "metadata": {},
   "outputs": [],
   "source": []
  }
 ],
 "metadata": {
  "kernelspec": {
   "display_name": "Python 3",
   "language": "python",
   "name": "python3"
  },
  "language_info": {
   "codemirror_mode": {
    "name": "ipython",
    "version": 3
   },
   "file_extension": ".py",
   "mimetype": "text/x-python",
   "name": "python",
   "nbconvert_exporter": "python",
   "pygments_lexer": "ipython3",
   "version": "3.7.5"
  }
 },
 "nbformat": 4,
 "nbformat_minor": 2
}
